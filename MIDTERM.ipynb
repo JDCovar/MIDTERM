{
  "nbformat": 4,
  "nbformat_minor": 0,
  "metadata": {
    "colab": {
      "name": "MIDTER.ipynb",
      "provenance": [],
      "collapsed_sections": []
    },
    "kernelspec": {
      "name": "python3",
      "display_name": "Python 3"
    },
    "language_info": {
      "name": "python"
    }
  },
  "cells": [
    {
      "cell_type": "code",
      "execution_count": 12,
      "metadata": {
        "colab": {
          "base_uri": "https://localhost:8080/"
        },
        "id": "FWPVApslRSey",
        "outputId": "d06bc9f0-8b5f-46a3-91fa-b7ab254f4efb"
      },
      "outputs": [
        {
          "output_type": "stream",
          "name": "stdout",
          "text": [
            "Enter the temperature in Celsius: 50\n",
            "323.15 Kelvin\n",
            "122.0 Fahrenheit\n"
          ]
        }
      ],
      "source": [
        "def main():\n",
        " class TemperatureConversion:\n",
        "  def __init__(self, temp=1):\n",
        "   self._temp = temp\n",
        " class CelsiusToFahrenheit(TemperatureConversion):\n",
        "  def conversion(self):\n",
        "   return (self._temp * 9) / 5 + 32\n",
        " class CelsiusToKelvin(TemperatureConversion):\n",
        "  def conversion(self):\n",
        "   return self._temp + 273.15\n",
        "\n",
        "   class FahrenheitToCelsius(TemperatureConversion):\n",
        "     def conversion(self):\n",
        "       return (self._temp - 32) * 5 / 9\n",
        "\n",
        "       class KelvinToCelsius(TemperatureConversion):\n",
        "         def conversion(self):\n",
        "           return(self._temp - 273.15)\n",
        "       \n",
        "\n",
        " tempInCelsius = float(input(\"Enter the temperature in Celsius: \"))\n",
        " convert = CelsiusToKelvin(tempInCelsius)\n",
        " print(str(convert.conversion()) + \" Kelvin\")\n",
        " convert = CelsiusToFahrenheit(tempInCelsius)\n",
        " print(str(convert.conversion()) + \" Fahrenheit\")\n",
        "\n",
        " \n",
        "\n",
        "\n",
        "main()\n"
      ]
    },
    {
      "cell_type": "markdown",
      "source": [
        "FAHRENHEIT TO CELSIUS\n",
        "\n",
        "KELVIN TO CELSIUS"
      ],
      "metadata": {
        "id": "N1SfB7q_ZAru"
      }
    },
    {
      "cell_type": "code",
      "source": [
        "def main():\n",
        "  class TempConv:\n",
        "    def __init__(self, temp = 1):\n",
        "      self._temp = temp\n",
        "\n",
        "  class FahrenheitToCelsius(TempConv):\n",
        "     def conversion(self):\n",
        "       return (self._temp - 32) * 5 / 9\n",
        "\n",
        "  class KelvinToCelsius(TempConv):\n",
        "         def conversion(self):\n",
        "           return(self._temp - 273.15)\n",
        "\n",
        "\n",
        "  tempInCelsius = float(input(\"Enter the temperature in Fahrenheit: \"))\n",
        "  convert = KelvinToCelsius(tempInCelsius)\n",
        "  print(str(convert.conversion()) + \" °C\")\n",
        "  tempInCelsius = float(input(\"Enter the temperature in Kelvin: \"))\n",
        "  convert = FahrenheitToCelsius(tempInCelsius)\n",
        "  print(str(convert.conversion()) + \" °C\")\n",
        "\n",
        "\n",
        "  main()"
      ],
      "metadata": {
        "id": "-a1ZSdqAWsiz"
      },
      "execution_count": 24,
      "outputs": []
    }
  ]
}